{
 "cells": [
  {
   "cell_type": "markdown",
   "metadata": {},
   "source": [
    "# __GNNExplainer Tutorial__\n",
    "\n",
    "Disclaimer: This tutorial assumes that you are familiar with Pytorch.\n",
    "\n",
    "In this tutorial, We will use Pytorch-Geometric(https://pytorch-geometric.readthedocs.io/en/latest/)[[1]], which is a GNN library built on top of Pytorch.\n",
    "\n",
    "This tutorial is based on the example provided by Pytorch-Geometric(https://github.com/rusty1s/pytorch_geometric/blob/master/examples/gnn_explainer.py).\n",
    "\n",
    "\n",
    "[[1]] Fey, Matthias and Lenssen, Jan E. \"Fast Graph Representation Learning with PyTorch Geometric.\" ICLR Workshop on Representation Learning on Graphs and Manifolds. 2019."
   ]
  },
  {
   "cell_type": "code",
   "execution_count": 1,
   "metadata": {
    "tags": []
   },
   "outputs": [
    {
     "output_type": "stream",
     "name": "stderr",
     "text": "RDKit WARNING: [22:48:10] Enabling RDKit 2019.09.3 jupyter extensions\n"
    }
   ],
   "source": [
    "%matplotlib inline\n",
    "\n",
    "from torch_geometric.data import Data, DataLoader\n",
    "from torch_geometric.datasets import TUDataset, Planetoid\n",
    "from torch_geometric.nn import GCNConv, Set2Set, GNNExplainer\n",
    "import torch_geometric.transforms as T\n",
    "import torch\n",
    "import torch.nn.functional as F\n",
    "import os\n",
    "from tqdm import tqdm, trange\n",
    "\n",
    "import matplotlib.pyplot as plt\n",
    "\n",
    "\n",
    "\n"
   ]
  },
  {
   "cell_type": "markdown",
   "metadata": {},
   "source": [
    "# 1. Training a GNN with Pytorch-Geometric"
   ]
  },
  {
   "cell_type": "markdown",
   "metadata": {},
   "source": [
    "## 1. Dataset\n",
    "\n",
    "Here, we load our dataset. We use Cora as in Yang et al.[[1]],  which is readily provided by Pytorch-Geometric(https://pytorch-geometric.readthedocs.io/en/latest/modules/datasets.html?highlight=cora#torch_geometric.datasets.Planetoid). This dataset is a node classification dataset: that is, given nodes and their features, the GNN must predict the correct label for the node. For each node, there is an input feature vector $x$ and label $y$. \n",
    "\n",
    "*Currently, the GNNExplainer provided by Pytorch-Geometric can only handle networks that are designed for __node classification__ tasks. Other tasks(node regression, graph classifiication, etc.) will result in an error.\n",
    "\n",
    "### Reference Paper\n",
    "[[1]] Yang, Zhilin, William Cohen, and Ruslan Salakhudinov. \"Revisiting semi-supervised learning with graph embeddings.\" International conference on machine learning. 2016.\n"
   ]
  },
  {
   "cell_type": "code",
   "execution_count": 2,
   "metadata": {},
   "outputs": [],
   "source": [
    "#Load the dataset\n",
    "dataset = 'cora'\n",
    "path = os.path.join(os.getcwd(), 'data', 'Planetoid')\n",
    "train_dataset = Planetoid(path, dataset, transform=T.NormalizeFeatures())\n",
    "\n",
    "# Since the dataset is comprised of a single huge graph, we extract that graph by indexing 0.\n",
    "data = train_dataset[0]\n",
    "\n",
    "# Since there is only 1 graph, the train/test split is done by masking regions of the graph. We split the last 500+500 nodes as val and test, and use the rest as the training data.\n",
    "data.train_mask = torch.zeros(data.num_nodes, dtype=torch.bool)\n",
    "data.train_mask[:data.num_nodes - 1000] = 1\n",
    "data.val_mask = None\n",
    "data.test_mask = torch.zeros(data.num_nodes, dtype=torch.bool)\n",
    "data.test_mask[data.num_nodes - 500:] = 1"
   ]
  },
  {
   "cell_type": "markdown",
   "metadata": {},
   "source": [
    "## 2. Network\n",
    "We define a network that is to be trained and explained by GNNExplainer.\n",
    "We construct a simple graph neural network composed of 2 graph convolution layers(Kipf et al.)."
   ]
  },
  {
   "cell_type": "code",
   "execution_count": 3,
   "metadata": {},
   "outputs": [],
   "source": [
    "class Net(torch.nn.Module):\n",
    "    def __init__(self, num_features, dim=16, num_classes=1):\n",
    "        super(Net, self).__init__()\n",
    "        self.conv1 = GCNConv(num_features, dim)\n",
    "        self.conv2 = GCNConv(dim, num_classes)\n",
    "\n",
    "    def forward(self, x, edge_index, data=None):\n",
    "        x = F.relu(self.conv1(x, edge_index))\n",
    "        x = F.dropout(x, training=self.training)\n",
    "        x = self.conv2(x, edge_index)\n",
    "        return F.log_softmax(x, dim=1)"
   ]
  },
  {
   "cell_type": "markdown",
   "metadata": {},
   "source": [
    "## 3. Training\n",
    "\n",
    "Below is a standard Pytorch network training procedure."
   ]
  },
  {
   "cell_type": "code",
   "execution_count": 9,
   "metadata": {
    "tags": []
   },
   "outputs": [],
   "source": [
    "epochs = 200\n",
    "dim = 16\n"
   ]
  },
  {
   "cell_type": "code",
   "execution_count": 10,
   "metadata": {},
   "outputs": [],
   "source": [
    "device = torch.device('cuda' if torch.cuda.is_available() else 'cpu')\n",
    "model = Net(num_features=train_dataset.num_features, dim=dim, num_classes=train_dataset.num_classes).to(device)\n",
    "optimizer = torch.optim.Adam(model.parameters(), lr=0.01, weight_decay=5e-3)"
   ]
  },
  {
   "cell_type": "code",
   "execution_count": 11,
   "metadata": {},
   "outputs": [],
   "source": [
    "def test(model, data):\n",
    "    model.eval()\n",
    "    logits, accs = model(data.x, data.edge_index, data), []\n",
    "    for _, mask in data('train_mask', 'test_mask'):\n",
    "        pred = logits[mask].max(1)[1]\n",
    "        acc = pred.eq(data.y[mask]).sum().item() / mask.sum().item()\n",
    "        accs.append(acc)\n",
    "    return accs"
   ]
  },
  {
   "cell_type": "code",
   "execution_count": 12,
   "metadata": {
    "tags": []
   },
   "outputs": [
    {
     "output_type": "stream",
     "name": "stderr",
     "text": "[Train_loss:1.505047 Train_acc: 0.4403, Test_acc: 0.4480]: 100%|██████████| 1000/1000 [00:09<00:00, 100.05it/s]\n"
    }
   ],
   "source": [
    "loss = 999.0\n",
    "train_acc = 0.0\n",
    "test_acc = 0.0\n",
    "\n",
    "t = trange(epochs, desc=\"Stats: \", position=0)\n",
    "\n",
    "for epoch in t:\n",
    "\n",
    "    model.train()\n",
    "    \n",
    "    loss = 0\n",
    "\n",
    "    data = data.to(device)\n",
    "    optimizer.zero_grad()\n",
    "    log_logits = model(data.x, data.edge_index, data)\n",
    "\n",
    "    # Since the data is a single huge graph, training on the training set is done by masking the nodes that are not in the training set.\n",
    "    loss = F.nll_loss(log_logits[data.train_mask], data.y[data.train_mask])\n",
    "    loss.backward()\n",
    "    optimizer.step()\n",
    "\n",
    "    # validate\n",
    "    train_acc, test_acc = test(model, data)\n",
    "    train_loss = loss\n",
    "    \n",
    "    t.set_description('[Train_loss:{:.6f} Train_acc: {:.4f}, Test_acc: {:.4f}]'.format(loss, train_acc, test_acc))"
   ]
  },
  {
   "cell_type": "markdown",
   "metadata": {},
   "source": [
    "# 2. GNNExplainer"
   ]
  },
  {
   "cell_type": "markdown",
   "metadata": {},
   "source": [
    "## 1. Instantiation\n",
    "\n",
    "Now we use GNNExplainer on the network trained above by wrapping the model with the GNNExplainer wrapper class(https://pytorch-geometric.readthedocs.io/en/latest/modules/nn.html?highlight=gnnexplainer#torch_geometric.nn.models.GNNExplainer). With explainer.explain_node() method, we cam fit GNNExplainer to explain a target node. This method must be supplied with a target node index(node_idx) and the graph(x, edge_index). The method then produces a node mask and a feature mask that reveals nodes/features that were important in producing such a prediction.\n",
    "\n"
   ]
  },
  {
   "cell_type": "code",
   "execution_count": 13,
   "metadata": {
    "tags": []
   },
   "outputs": [
    {
     "output_type": "stream",
     "name": "stderr",
     "text": "Explain node 10: 100%|██████████| 200/200 [00:01<00:00, 115.71it/s]\n"
    }
   ],
   "source": [
    "node_idx = 10\n",
    "x, edge_index = data.x, data.edge_index\n",
    "explainer = GNNExplainer(model, epochs=200)\n",
    "node_feat_mask, edge_mask = explainer.explain_node(node_idx, x, edge_index)\n"
   ]
  },
  {
   "cell_type": "markdown",
   "metadata": {},
   "source": [
    "## 2. Visualization\n",
    "GNNExplainer supports visualization via Matplotlib. you can also supply the function with a threshold value deciding whether to obscure/reveal nodes and edges of certain importance values. The function returns the axes to the Matplotlib plot and a Networkx graph for additional control."
   ]
  },
  {
   "cell_type": "code",
   "execution_count": 9,
   "metadata": {},
   "outputs": [
    {
     "output_type": "display_data",
     "data": {
      "text/plain": "<Figure size 432x288 with 1 Axes>",
      "image/svg+xml": "<?xml version=\"1.0\" encoding=\"utf-8\" standalone=\"no\"?>\n<!DOCTYPE svg PUBLIC \"-//W3C//DTD SVG 1.1//EN\"\n  \"http://www.w3.org/Graphics/SVG/1.1/DTD/svg11.dtd\">\n<!-- Created with matplotlib (https://matplotlib.org/) -->\n<svg height=\"231.84pt\" version=\"1.1\" viewBox=\"0 0 349.2 231.84\" width=\"349.2pt\" xmlns=\"http://www.w3.org/2000/svg\" xmlns:xlink=\"http://www.w3.org/1999/xlink\">\n <defs>\n  <style type=\"text/css\">\n*{stroke-linecap:butt;stroke-linejoin:round;}\n  </style>\n </defs>\n <g id=\"figure_1\">\n  <g id=\"patch_1\">\n   <path d=\"M 0 231.84 \nL 349.2 231.84 \nL 349.2 0 \nL 0 0 \nz\n\" style=\"fill:none;\"/>\n  </g>\n  <g id=\"axes_1\">\n   <g id=\"patch_2\">\n    <path d=\"M 7.2 224.64 \nL 342 224.64 \nL 342 7.2 \nL 7.2 7.2 \nz\n\" style=\"fill:#ffffff;\"/>\n   </g>\n   <g id=\"matplotlib.axis_1\">\n    <g id=\"xtick_1\"/>\n    <g id=\"xtick_2\"/>\n    <g id=\"xtick_3\"/>\n    <g id=\"xtick_4\"/>\n    <g id=\"xtick_5\"/>\n    <g id=\"xtick_6\"/>\n   </g>\n   <g id=\"matplotlib.axis_2\">\n    <g id=\"ytick_1\"/>\n    <g id=\"ytick_2\"/>\n    <g id=\"ytick_3\"/>\n    <g id=\"ytick_4\"/>\n    <g id=\"ytick_5\"/>\n    <g id=\"ytick_6\"/>\n    <g id=\"ytick_7\"/>\n    <g id=\"ytick_8\"/>\n   </g>\n   <g id=\"PathCollection_1\">\n    <defs>\n     <path d=\"M 0 14.142136 \nC 3.750538 14.142136 7.347969 12.652031 10 10 \nC 12.652031 7.347969 14.142136 3.750538 14.142136 0 \nC 14.142136 -3.750538 12.652031 -7.347969 10 -10 \nC 7.347969 -12.652031 3.750538 -14.142136 0 -14.142136 \nC -3.750538 -14.142136 -7.347969 -12.652031 -10 -10 \nC -12.652031 -7.347969 -14.142136 -3.750538 -14.142136 0 \nC -14.142136 3.750538 -12.652031 7.347969 -10 10 \nC -7.347969 12.652031 -3.750538 14.142136 0 14.142136 \nz\n\" id=\"C0_0_f5f734f1bd\"/>\n    </defs>\n    <g clip-path=\"url(#p0c67af2ad6)\">\n     <use style=\"fill:#00ffff;stroke:#00ffff;\" x=\"145.88538\" xlink:href=\"#C0_0_f5f734f1bd\" y=\"151.310128\"/>\n    </g>\n    <g clip-path=\"url(#p0c67af2ad6)\">\n     <use style=\"fill:#55aaff;stroke:#55aaff;\" x=\"122.35042\" xlink:href=\"#C0_0_f5f734f1bd\" y=\"24.32235\"/>\n    </g>\n    <g clip-path=\"url(#p0c67af2ad6)\">\n     <use style=\"fill:#55aaff;stroke:#55aaff;\" x=\"178.029927\" xlink:href=\"#C0_0_f5f734f1bd\" y=\"80.266063\"/>\n    </g>\n    <g clip-path=\"url(#p0c67af2ad6)\">\n     <use style=\"fill:#55aaff;stroke:#55aaff;\" x=\"34.00649\" xlink:href=\"#C0_0_f5f734f1bd\" y=\"77.22753\"/>\n    </g>\n    <g clip-path=\"url(#p0c67af2ad6)\">\n     <use style=\"fill:#55aaff;stroke:#55aaff;\" x=\"276.931968\" xlink:href=\"#C0_0_f5f734f1bd\" y=\"35.456301\"/>\n    </g>\n    <g clip-path=\"url(#p0c67af2ad6)\">\n     <use style=\"fill:#ff00ff;stroke:#ff00ff;\" x=\"315.19351\" xlink:href=\"#C0_0_f5f734f1bd\" y=\"97.440231\"/>\n    </g>\n    <g clip-path=\"url(#p0c67af2ad6)\">\n     <use style=\"fill:#55aaff;stroke:#55aaff;\" x=\"120.221808\" xlink:href=\"#C0_0_f5f734f1bd\" y=\"207.51765\"/>\n    </g>\n   </g>\n   <g id=\"patch_3\">\n    <path d=\"M 7.2 224.64 \nL 7.2 7.2 \n\" style=\"fill:none;stroke:#000000;stroke-linecap:square;stroke-linejoin:miter;stroke-width:0.8;\"/>\n   </g>\n   <g id=\"patch_4\">\n    <path d=\"M 342 224.64 \nL 342 7.2 \n\" style=\"fill:none;stroke:#000000;stroke-linecap:square;stroke-linejoin:miter;stroke-width:0.8;\"/>\n   </g>\n   <g id=\"patch_5\">\n    <path d=\"M 7.2 224.64 \nL 342 224.64 \n\" style=\"fill:none;stroke:#000000;stroke-linecap:square;stroke-linejoin:miter;stroke-width:0.8;\"/>\n   </g>\n   <g id=\"patch_6\">\n    <path d=\"M 7.2 7.2 \nL 342 7.2 \n\" style=\"fill:none;stroke:#000000;stroke-linecap:square;stroke-linejoin:miter;stroke-width:0.8;\"/>\n   </g>\n   <g id=\"patch_7\">\n    <path d=\"M 153.728032 139.536948 \nQ 166.975395 118.055111 174.038195 94.992166 \n\" style=\"fill:none;opacity:0.1;stroke:#000000;stroke-linecap:round;\"/>\n    <path d=\"M 170.954589 98.231205 \nL 174.038195 94.992166 \nL 174.779263 99.402474 \n\" style=\"fill:none;opacity:0.1;stroke:#000000;stroke-linecap:round;\"/>\n   </g>\n   <g id=\"patch_8\">\n    <path d=\"M 138.1147 163.122415 \nQ 129.401092 177.744055 124.410121 192.843645 \n\" style=\"fill:none;opacity:0.1;stroke:#000000;stroke-linecap:round;\"/>\n    <path d=\"M 127.564423 189.673412 \nL 124.410121 192.843645 \nL 123.766516 188.418063 \n\" style=\"fill:none;opacity:0.1;stroke:#000000;stroke-linecap:round;\"/>\n   </g>\n   <g id=\"patch_9\">\n    <path d=\"M 130.567041 35.835127 \nQ 146.224701 56.241717 165.673255 71.310926 \n\" style=\"fill:none;opacity:0.1;stroke:#000000;stroke-linecap:round;\"/>\n    <path d=\"M 163.736295 67.280022 \nL 165.673255 71.310926 \nL 161.286356 70.441952 \n\" style=\"fill:none;opacity:0.1;stroke:#000000;stroke-linecap:round;\"/>\n   </g>\n   <g id=\"patch_10\">\n    <path d=\"M 170.187275 92.039243 \nQ 156.939912 113.52108 149.877112 136.584025 \n\" style=\"fill:none;opacity:0.938443;stroke:#000000;stroke-linecap:round;\"/>\n    <path d=\"M 152.960717 133.344986 \nL 149.877112 136.584025 \nL 149.136044 132.173717 \n\" style=\"fill:none;opacity:0.938443;stroke:#000000;stroke-linecap:round;\"/>\n   </g>\n   <g id=\"patch_11\">\n    <path d=\"M 169.813306 68.753286 \nQ 154.155646 48.346696 134.707092 33.277487 \n\" style=\"fill:none;opacity:0.936058;stroke:#000000;stroke-linecap:round;\"/>\n    <path d=\"M 136.644052 37.308391 \nL 134.707092 33.277487 \nL 139.093991 34.146461 \n\" style=\"fill:none;opacity:0.936058;stroke:#000000;stroke-linecap:round;\"/>\n   </g>\n   <g id=\"patch_12\">\n    <path d=\"M 164.172 77.459112 \nQ 106.272229 66.858502 49.084176 74.851886 \n\" style=\"fill:none;opacity:0.1;stroke:#000000;stroke-linecap:round;\"/>\n    <path d=\"M 53.322522 76.278919 \nL 49.084176 74.851886 \nL 52.76881 72.317429 \n\" style=\"fill:none;opacity:0.1;stroke:#000000;stroke-linecap:round;\"/>\n   </g>\n   <g id=\"patch_13\">\n    <path d=\"M 191.724144 76.728398 \nQ 230.96093 65.538352 264.305825 44.023673 \n\" style=\"fill:none;opacity:0.1;stroke:#000000;stroke-linecap:round;\"/>\n    <path d=\"M 259.860404 44.511761 \nL 264.305825 44.023673 \nL 262.029042 47.872863 \n\" style=\"fill:none;opacity:0.1;stroke:#000000;stroke-linecap:round;\"/>\n   </g>\n   <g id=\"patch_14\">\n    <path d=\"M 191.528217 84.478915 \nQ 245.204037 100.085338 299.953212 98.232875 \n\" style=\"fill:none;opacity:0.1;stroke:#000000;stroke-linecap:round;\"/>\n    <path d=\"M 295.887867 96.369283 \nL 299.953212 98.232875 \nL 296.023132 100.366996 \n\" style=\"fill:none;opacity:0.1;stroke:#000000;stroke-linecap:round;\"/>\n   </g>\n   <g id=\"patch_15\">\n    <path d=\"M 47.864418 80.034481 \nQ 105.764189 90.635091 162.952241 82.641707 \n\" style=\"fill:none;opacity:0.1;stroke:#000000;stroke-linecap:round;\"/>\n    <path d=\"M 158.713895 81.214674 \nL 162.952241 82.641707 \nL 159.267607 85.176164 \n\" style=\"fill:none;opacity:0.1;stroke:#000000;stroke-linecap:round;\"/>\n   </g>\n   <g id=\"patch_16\">\n    <path d=\"M 263.237751 38.993965 \nQ 224.000965 50.184011 190.65607 71.69869 \n\" style=\"fill:none;opacity:0.941727;stroke:#000000;stroke-linecap:round;\"/>\n    <path d=\"M 195.101491 71.210602 \nL 190.65607 71.69869 \nL 192.932853 67.8495 \n\" style=\"fill:none;opacity:0.941727;stroke:#000000;stroke-linecap:round;\"/>\n   </g>\n   <g id=\"patch_17\">\n    <path d=\"M 301.695219 93.227378 \nQ 248.0194 77.620955 193.270225 79.473418 \n\" style=\"fill:none;opacity:0.89652;stroke:#000000;stroke-linecap:round;\"/>\n    <path d=\"M 197.335569 81.33701 \nL 193.270225 79.473418 \nL 197.200305 77.339298 \n\" style=\"fill:none;opacity:0.89652;stroke:#000000;stroke-linecap:round;\"/>\n   </g>\n   <g id=\"patch_18\">\n    <path d=\"M 127.992488 195.705363 \nQ 136.706096 181.083723 141.697067 165.984133 \n\" style=\"fill:none;opacity:0.1;stroke:#000000;stroke-linecap:round;\"/>\n    <path d=\"M 138.542765 169.154366 \nL 141.697067 165.984133 \nL 142.340672 170.409715 \n\" style=\"fill:none;opacity:0.1;stroke:#000000;stroke-linecap:round;\"/>\n   </g>\n   <g id=\"text_1\">\n    <g clip-path=\"url(#p0c67af2ad6)\">\n     <!-- 10 -->\n     <defs>\n      <path d=\"M 12.40625 8.296875 \nL 28.515625 8.296875 \nL 28.515625 63.921875 \nL 10.984375 60.40625 \nL 10.984375 69.390625 \nL 28.421875 72.90625 \nL 38.28125 72.90625 \nL 38.28125 8.296875 \nL 54.390625 8.296875 \nL 54.390625 0 \nL 12.40625 0 \nz\n\" id=\"DejaVuSans-49\"/>\n      <path d=\"M 31.78125 66.40625 \nQ 24.171875 66.40625 20.328125 58.90625 \nQ 16.5 51.421875 16.5 36.375 \nQ 16.5 21.390625 20.328125 13.890625 \nQ 24.171875 6.390625 31.78125 6.390625 \nQ 39.453125 6.390625 43.28125 13.890625 \nQ 47.125 21.390625 47.125 36.375 \nQ 47.125 51.421875 43.28125 58.90625 \nQ 39.453125 66.40625 31.78125 66.40625 \nz\nM 31.78125 74.21875 \nQ 44.046875 74.21875 50.515625 64.515625 \nQ 56.984375 54.828125 56.984375 36.375 \nQ 56.984375 17.96875 50.515625 8.265625 \nQ 44.046875 -1.421875 31.78125 -1.421875 \nQ 19.53125 -1.421875 13.0625 8.265625 \nQ 6.59375 17.96875 6.59375 36.375 \nQ 6.59375 54.828125 13.0625 64.515625 \nQ 19.53125 74.21875 31.78125 74.21875 \nz\n\" id=\"DejaVuSans-48\"/>\n     </defs>\n     <g transform=\"translate(139.52288 154.069503)scale(0.1 -0.1)\">\n      <use xlink:href=\"#DejaVuSans-49\"/>\n      <use x=\"63.623047\" xlink:href=\"#DejaVuSans-48\"/>\n     </g>\n    </g>\n   </g>\n   <g id=\"text_2\">\n    <g clip-path=\"url(#p0c67af2ad6)\">\n     <!-- 306 -->\n     <defs>\n      <path d=\"M 40.578125 39.3125 \nQ 47.65625 37.796875 51.625 33 \nQ 55.609375 28.21875 55.609375 21.1875 \nQ 55.609375 10.40625 48.1875 4.484375 \nQ 40.765625 -1.421875 27.09375 -1.421875 \nQ 22.515625 -1.421875 17.65625 -0.515625 \nQ 12.796875 0.390625 7.625 2.203125 \nL 7.625 11.71875 \nQ 11.71875 9.328125 16.59375 8.109375 \nQ 21.484375 6.890625 26.8125 6.890625 \nQ 36.078125 6.890625 40.9375 10.546875 \nQ 45.796875 14.203125 45.796875 21.1875 \nQ 45.796875 27.640625 41.28125 31.265625 \nQ 36.765625 34.90625 28.71875 34.90625 \nL 20.21875 34.90625 \nL 20.21875 43.015625 \nL 29.109375 43.015625 \nQ 36.375 43.015625 40.234375 45.921875 \nQ 44.09375 48.828125 44.09375 54.296875 \nQ 44.09375 59.90625 40.109375 62.90625 \nQ 36.140625 65.921875 28.71875 65.921875 \nQ 24.65625 65.921875 20.015625 65.03125 \nQ 15.375 64.15625 9.8125 62.3125 \nL 9.8125 71.09375 \nQ 15.4375 72.65625 20.34375 73.4375 \nQ 25.25 74.21875 29.59375 74.21875 \nQ 40.828125 74.21875 47.359375 69.109375 \nQ 53.90625 64.015625 53.90625 55.328125 \nQ 53.90625 49.265625 50.4375 45.09375 \nQ 46.96875 40.921875 40.578125 39.3125 \nz\n\" id=\"DejaVuSans-51\"/>\n      <path d=\"M 33.015625 40.375 \nQ 26.375 40.375 22.484375 35.828125 \nQ 18.609375 31.296875 18.609375 23.390625 \nQ 18.609375 15.53125 22.484375 10.953125 \nQ 26.375 6.390625 33.015625 6.390625 \nQ 39.65625 6.390625 43.53125 10.953125 \nQ 47.40625 15.53125 47.40625 23.390625 \nQ 47.40625 31.296875 43.53125 35.828125 \nQ 39.65625 40.375 33.015625 40.375 \nz\nM 52.59375 71.296875 \nL 52.59375 62.3125 \nQ 48.875 64.0625 45.09375 64.984375 \nQ 41.3125 65.921875 37.59375 65.921875 \nQ 27.828125 65.921875 22.671875 59.328125 \nQ 17.53125 52.734375 16.796875 39.40625 \nQ 19.671875 43.65625 24.015625 45.921875 \nQ 28.375 48.1875 33.59375 48.1875 \nQ 44.578125 48.1875 50.953125 41.515625 \nQ 57.328125 34.859375 57.328125 23.390625 \nQ 57.328125 12.15625 50.6875 5.359375 \nQ 44.046875 -1.421875 33.015625 -1.421875 \nQ 20.359375 -1.421875 13.671875 8.265625 \nQ 6.984375 17.96875 6.984375 36.375 \nQ 6.984375 53.65625 15.1875 63.9375 \nQ 23.390625 74.21875 37.203125 74.21875 \nQ 40.921875 74.21875 44.703125 73.484375 \nQ 48.484375 72.75 52.59375 71.296875 \nz\n\" id=\"DejaVuSans-54\"/>\n     </defs>\n     <g transform=\"translate(112.80667 27.081725)scale(0.1 -0.1)\">\n      <use xlink:href=\"#DejaVuSans-51\"/>\n      <use x=\"63.623047\" xlink:href=\"#DejaVuSans-48\"/>\n      <use x=\"127.246094\" xlink:href=\"#DejaVuSans-54\"/>\n     </g>\n    </g>\n   </g>\n   <g id=\"text_3\">\n    <g clip-path=\"url(#p0c67af2ad6)\">\n     <!-- 476 -->\n     <defs>\n      <path d=\"M 37.796875 64.3125 \nL 12.890625 25.390625 \nL 37.796875 25.390625 \nz\nM 35.203125 72.90625 \nL 47.609375 72.90625 \nL 47.609375 25.390625 \nL 58.015625 25.390625 \nL 58.015625 17.1875 \nL 47.609375 17.1875 \nL 47.609375 0 \nL 37.796875 0 \nL 37.796875 17.1875 \nL 4.890625 17.1875 \nL 4.890625 26.703125 \nz\n\" id=\"DejaVuSans-52\"/>\n      <path d=\"M 8.203125 72.90625 \nL 55.078125 72.90625 \nL 55.078125 68.703125 \nL 28.609375 0 \nL 18.3125 0 \nL 43.21875 64.59375 \nL 8.203125 64.59375 \nz\n\" id=\"DejaVuSans-55\"/>\n     </defs>\n     <g transform=\"translate(168.486177 83.025438)scale(0.1 -0.1)\">\n      <use xlink:href=\"#DejaVuSans-52\"/>\n      <use x=\"63.623047\" xlink:href=\"#DejaVuSans-55\"/>\n      <use x=\"127.246094\" xlink:href=\"#DejaVuSans-54\"/>\n     </g>\n    </g>\n   </g>\n   <g id=\"text_4\">\n    <g clip-path=\"url(#p0c67af2ad6)\">\n     <!-- 1140 -->\n     <g transform=\"translate(21.28149 79.986905)scale(0.1 -0.1)\">\n      <use xlink:href=\"#DejaVuSans-49\"/>\n      <use x=\"63.623047\" xlink:href=\"#DejaVuSans-49\"/>\n      <use x=\"127.246094\" xlink:href=\"#DejaVuSans-52\"/>\n      <use x=\"190.869141\" xlink:href=\"#DejaVuSans-48\"/>\n     </g>\n    </g>\n   </g>\n   <g id=\"text_5\">\n    <g clip-path=\"url(#p0c67af2ad6)\">\n     <!-- 1800 -->\n     <defs>\n      <path d=\"M 31.78125 34.625 \nQ 24.75 34.625 20.71875 30.859375 \nQ 16.703125 27.09375 16.703125 20.515625 \nQ 16.703125 13.921875 20.71875 10.15625 \nQ 24.75 6.390625 31.78125 6.390625 \nQ 38.8125 6.390625 42.859375 10.171875 \nQ 46.921875 13.96875 46.921875 20.515625 \nQ 46.921875 27.09375 42.890625 30.859375 \nQ 38.875 34.625 31.78125 34.625 \nz\nM 21.921875 38.8125 \nQ 15.578125 40.375 12.03125 44.71875 \nQ 8.5 49.078125 8.5 55.328125 \nQ 8.5 64.0625 14.71875 69.140625 \nQ 20.953125 74.21875 31.78125 74.21875 \nQ 42.671875 74.21875 48.875 69.140625 \nQ 55.078125 64.0625 55.078125 55.328125 \nQ 55.078125 49.078125 51.53125 44.71875 \nQ 48 40.375 41.703125 38.8125 \nQ 48.828125 37.15625 52.796875 32.3125 \nQ 56.78125 27.484375 56.78125 20.515625 \nQ 56.78125 9.90625 50.3125 4.234375 \nQ 43.84375 -1.421875 31.78125 -1.421875 \nQ 19.734375 -1.421875 13.25 4.234375 \nQ 6.78125 9.90625 6.78125 20.515625 \nQ 6.78125 27.484375 10.78125 32.3125 \nQ 14.796875 37.15625 21.921875 38.8125 \nz\nM 18.3125 54.390625 \nQ 18.3125 48.734375 21.84375 45.5625 \nQ 25.390625 42.390625 31.78125 42.390625 \nQ 38.140625 42.390625 41.71875 45.5625 \nQ 45.3125 48.734375 45.3125 54.390625 \nQ 45.3125 60.0625 41.71875 63.234375 \nQ 38.140625 66.40625 31.78125 66.40625 \nQ 25.390625 66.40625 21.84375 63.234375 \nQ 18.3125 60.0625 18.3125 54.390625 \nz\n\" id=\"DejaVuSans-56\"/>\n     </defs>\n     <g transform=\"translate(264.206968 38.215676)scale(0.1 -0.1)\">\n      <use xlink:href=\"#DejaVuSans-49\"/>\n      <use x=\"63.623047\" xlink:href=\"#DejaVuSans-56\"/>\n      <use x=\"127.246094\" xlink:href=\"#DejaVuSans-48\"/>\n      <use x=\"190.869141\" xlink:href=\"#DejaVuSans-48\"/>\n     </g>\n    </g>\n   </g>\n   <g id=\"text_6\">\n    <g clip-path=\"url(#p0c67af2ad6)\">\n     <!-- 1986 -->\n     <defs>\n      <path d=\"M 10.984375 1.515625 \nL 10.984375 10.5 \nQ 14.703125 8.734375 18.5 7.8125 \nQ 22.3125 6.890625 25.984375 6.890625 \nQ 35.75 6.890625 40.890625 13.453125 \nQ 46.046875 20.015625 46.78125 33.40625 \nQ 43.953125 29.203125 39.59375 26.953125 \nQ 35.25 24.703125 29.984375 24.703125 \nQ 19.046875 24.703125 12.671875 31.3125 \nQ 6.296875 37.9375 6.296875 49.421875 \nQ 6.296875 60.640625 12.9375 67.421875 \nQ 19.578125 74.21875 30.609375 74.21875 \nQ 43.265625 74.21875 49.921875 64.515625 \nQ 56.59375 54.828125 56.59375 36.375 \nQ 56.59375 19.140625 48.40625 8.859375 \nQ 40.234375 -1.421875 26.421875 -1.421875 \nQ 22.703125 -1.421875 18.890625 -0.6875 \nQ 15.09375 0.046875 10.984375 1.515625 \nz\nM 30.609375 32.421875 \nQ 37.25 32.421875 41.125 36.953125 \nQ 45.015625 41.5 45.015625 49.421875 \nQ 45.015625 57.28125 41.125 61.84375 \nQ 37.25 66.40625 30.609375 66.40625 \nQ 23.96875 66.40625 20.09375 61.84375 \nQ 16.21875 57.28125 16.21875 49.421875 \nQ 16.21875 41.5 20.09375 36.953125 \nQ 23.96875 32.421875 30.609375 32.421875 \nz\n\" id=\"DejaVuSans-57\"/>\n     </defs>\n     <g transform=\"translate(302.46851 100.199606)scale(0.1 -0.1)\">\n      <use xlink:href=\"#DejaVuSans-49\"/>\n      <use x=\"63.623047\" xlink:href=\"#DejaVuSans-57\"/>\n      <use x=\"127.246094\" xlink:href=\"#DejaVuSans-56\"/>\n      <use x=\"190.869141\" xlink:href=\"#DejaVuSans-54\"/>\n     </g>\n    </g>\n   </g>\n   <g id=\"text_7\">\n    <g clip-path=\"url(#p0c67af2ad6)\">\n     <!-- 2545 -->\n     <defs>\n      <path d=\"M 19.1875 8.296875 \nL 53.609375 8.296875 \nL 53.609375 0 \nL 7.328125 0 \nL 7.328125 8.296875 \nQ 12.9375 14.109375 22.625 23.890625 \nQ 32.328125 33.6875 34.8125 36.53125 \nQ 39.546875 41.84375 41.421875 45.53125 \nQ 43.3125 49.21875 43.3125 52.78125 \nQ 43.3125 58.59375 39.234375 62.25 \nQ 35.15625 65.921875 28.609375 65.921875 \nQ 23.96875 65.921875 18.8125 64.3125 \nQ 13.671875 62.703125 7.8125 59.421875 \nL 7.8125 69.390625 \nQ 13.765625 71.78125 18.9375 73 \nQ 24.125 74.21875 28.421875 74.21875 \nQ 39.75 74.21875 46.484375 68.546875 \nQ 53.21875 62.890625 53.21875 53.421875 \nQ 53.21875 48.921875 51.53125 44.890625 \nQ 49.859375 40.875 45.40625 35.40625 \nQ 44.1875 33.984375 37.640625 27.21875 \nQ 31.109375 20.453125 19.1875 8.296875 \nz\n\" id=\"DejaVuSans-50\"/>\n      <path d=\"M 10.796875 72.90625 \nL 49.515625 72.90625 \nL 49.515625 64.59375 \nL 19.828125 64.59375 \nL 19.828125 46.734375 \nQ 21.96875 47.46875 24.109375 47.828125 \nQ 26.265625 48.1875 28.421875 48.1875 \nQ 40.625 48.1875 47.75 41.5 \nQ 54.890625 34.8125 54.890625 23.390625 \nQ 54.890625 11.625 47.5625 5.09375 \nQ 40.234375 -1.421875 26.90625 -1.421875 \nQ 22.3125 -1.421875 17.546875 -0.640625 \nQ 12.796875 0.140625 7.71875 1.703125 \nL 7.71875 11.625 \nQ 12.109375 9.234375 16.796875 8.0625 \nQ 21.484375 6.890625 26.703125 6.890625 \nQ 35.15625 6.890625 40.078125 11.328125 \nQ 45.015625 15.765625 45.015625 23.390625 \nQ 45.015625 31 40.078125 35.4375 \nQ 35.15625 39.890625 26.703125 39.890625 \nQ 22.75 39.890625 18.8125 39.015625 \nQ 14.890625 38.140625 10.796875 36.28125 \nz\n\" id=\"DejaVuSans-53\"/>\n     </defs>\n     <g transform=\"translate(107.496808 210.277025)scale(0.1 -0.1)\">\n      <use xlink:href=\"#DejaVuSans-50\"/>\n      <use x=\"63.623047\" xlink:href=\"#DejaVuSans-53\"/>\n      <use x=\"127.246094\" xlink:href=\"#DejaVuSans-52\"/>\n      <use x=\"190.869141\" xlink:href=\"#DejaVuSans-53\"/>\n     </g>\n    </g>\n   </g>\n  </g>\n </g>\n <defs>\n  <clipPath id=\"p0c67af2ad6\">\n   <rect height=\"217.44\" width=\"334.8\" x=\"7.2\" y=\"7.2\"/>\n  </clipPath>\n </defs>\n</svg>\n",
      "image/png": "[encoded data removed]"
     },
     "metadata": {}
    }
   ],
   "source": [
    "ax, G = explainer.visualize_subgraph(node_idx, edge_index, edge_mask, y=data.y)\n",
    "plt.show()\n"
   ]
  }
 ],
 "metadata": {
  "language_info": {
   "codemirror_mode": {
    "name": "ipython",
    "version": 3
   },
   "file_extension": ".py",
   "mimetype": "text/x-python",
   "name": "python",
   "nbconvert_exporter": "python",
   "pygments_lexer": "ipython3",
   "version": "3.7.6-final"
  },
  "orig_nbformat": 2,
  "kernelspec": {
   "name": "python3",
   "display_name": "Python 3"
  }
 },
 "nbformat": 4,
 "nbformat_minor": 2
}